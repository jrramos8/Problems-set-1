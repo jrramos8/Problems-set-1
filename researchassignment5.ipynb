{
 "cells": [
  {
   "cell_type": "markdown",
   "metadata": {},
   "source": [
    "# Research Assignment 5 \n",
    "\n",
    "\n",
    "[Jovana Ramos]\n",
    "\n",
    "[Elite Schools and Inheritance \n",
    "\n",
    "[4/15/2020]\n"
   ]
  },
  {
   "cell_type": "code",
   "execution_count": 14,
   "metadata": {},
   "outputs": [
    {
     "name": "stdout",
     "output_type": "stream",
     "text": [
      "\n",
      "\n",
      "C:\\Users\\Jovis\\Desktop\\SOC_211\\Week_10\n",
      "\n",
      "\n",
      "\n",
      "\n",
      "\n",
      "Contains data from socialcircuitrybillionaires.dta\n",
      "  obs:         1,200                          \n",
      " vars:             6                          1 Apr 2020 01:18\n",
      "--------------------------------------------------------------------------------------------------\n",
      "              storage   display    value\n",
      "variable name   type    format     label      variable label\n",
      "--------------------------------------------------------------------------------------------------\n",
      "year            float   %10.0g                year of observation\n",
      "boardtop30pri~e float   %9.0g                 held seat on top 30 private university board\n",
      "inherited       float   %9.0g                 in Forbes inherited wealth category\n",
      "collegeschool~e float   %9.0g                 BA school elite status 0 to 3\n",
      "id              float   %9.0g                 person-level unique ID\n",
      "pehedge         float   %9.0g                 private equity or hedge fund partner\n",
      "--------------------------------------------------------------------------------------------------\n",
      "Sorted by: \n"
     ]
    }
   ],
   "source": [
    "clear\n",
    "cd C:\\Users\\Jovis\\Desktop\\SOC_211\\Week_10\n",
    "capture log close\n",
    "*log using Assignment_5.log\n",
    "set more off\n",
    "use socialcircuitrybillionaires, clear\n",
    "describe"
   ]
  },
  {
   "cell_type": "markdown",
   "metadata": {},
   "source": [
    "### 1. Develop hypotheses that approach a nominal variable in your dataset as a dependent variable (DV). [1 pt]\n",
    "\n",
    "* If your nominal variable has more than two categorical variables, such as political party affiliation categories of -- Democrat, Democratic Socialist, Green, Independent, or Republican -- develop hypotheses that treat being or not being in at least one of the categories as a dichotomous binomial dependent variable (DV).\n",
    "\n",
    "* Even if you are not interested in any categorical outcomes for your research project, still develop an hypothesis for at least one nominal variable in your data as a dependent variable. Thinking about potential influences on that variable could help you see if there are intervening relationships or omitted variable biases in your primary outcome of interest.\n",
    "\n",
    "Do the following when you write your hypothesis:\n",
    "\n",
    "    A. Write a separate hypothesis for each dependent variable (DV) you want to analyze.\n",
    "Dependent Variable: The type of school respondents attended\n",
    "Independent variable: Respondents who inherited money\n",
    "\n",
    "I hypothesize that more respondents who inherited wealth attend elite schools compared to respondents who did not inherit any wealth.\n",
    "    \n",
    "    B. For each dependent variable (DV) state the predicted direction of association between your dependent variable DV and independent variables (IVs) in your model. You can predict no relationship if you do not expect a relationship.\n",
    "I expect there to be a positive association between respondents who inherited wealth and their attendance to elite schools and a negative association between respondents who didn't inherited wealth and their attendance to attend elite schools.\n",
    "    \n",
    "    C. Write a couple sentences about the theoretical reasons (prior knowledge / research) for each of your predictions\n",
    "Individuals with more wealth have to human capital to be able to attend universities. They also tend to have the social capital to be accepted into these elite schools such as family members being alumni who donate to the schools."
   ]
  },
  {
   "cell_type": "markdown",
   "metadata": {},
   "source": [
    "### 2. Test your hypotheses [3 pts]\n",
    "\n",
    "    A. Create a frequency table for your dependent variable (DV)."
   ]
  },
  {
   "cell_type": "code",
   "execution_count": 16,
   "metadata": {},
   "outputs": [
    {
     "name": "stdout",
     "output_type": "stream",
     "text": [
      "\n",
      "  BA school |\n",
      "      elite |\n",
      "status 0 to |\n",
      "          3 |      Freq.     Percent        Cum.\n",
      "------------+-----------------------------------\n",
      "          0 |        216       18.00       18.00\n",
      "          1 |        443       36.92       54.92\n",
      "          2 |        171       14.25       69.17\n",
      "          3 |        370       30.83      100.00\n",
      "------------+-----------------------------------\n",
      "      Total |      1,200      100.00\n"
     ]
    }
   ],
   "source": [
    "tab collegeschooltype"
   ]
  },
  {
   "cell_type": "markdown",
   "metadata": {},
   "source": [
    "    B. Estimate an OLS model regressing your dichotomous dependent variable (DV) on your hypothesized independent variables (IVs) and store the results."
   ]
  },
  {
   "cell_type": "code",
   "execution_count": 43,
   "metadata": {},
   "outputs": [
    {
     "name": "stdout",
     "output_type": "stream",
     "text": [
      "\n",
      "      Source |       SS           df       MS      Number of obs   =     1,200\n",
      "-------------+----------------------------------   F(3, 1196)      =      8.23\n",
      "       Model |  5.47008327         3  1.82336109   Prob > F        =    0.0000\n",
      "    Residual |  265.076583     1,196  .221635939   R-squared       =    0.0202\n",
      "-------------+----------------------------------   Adj R-squared   =    0.0178\n",
      "       Total |  270.546667     1,199  .225643592   Root MSE        =    .47078\n",
      "\n",
      "-----------------------------------------------------------------------------------\n",
      "        inherited |      Coef.   Std. Err.      t    P>|t|     [95% Conf. Interval]\n",
      "------------------+----------------------------------------------------------------\n",
      "collegeschooltype |  -.0278959   .0128726    -2.17   0.030    -.0531513   -.0026404\n",
      "boardtop30private |  -.0625695   .0421471    -1.48   0.138    -.1452601     .020121\n",
      "          pehedge |   .2042293   .0450885     4.53   0.000     .1157679    .2926907\n",
      "            _cons |   .3736308   .0237308    15.74   0.000     .3270722    .4201895\n",
      "-----------------------------------------------------------------------------------\n",
      "(est9 stored)\n"
     ]
    }
   ],
   "source": [
    "eststo: regress inherited collegeschooltype boardtop30private pehedge"
   ]
  },
  {
   "cell_type": "markdown",
   "metadata": {},
   "source": [
    "    \n",
    "    C. Estimate an MLE logistic model regressing your dichotomous dependent variable (DV) on your hypothesized independent variables (IVs) and store the results."
   ]
  },
  {
   "cell_type": "code",
   "execution_count": 44,
   "metadata": {},
   "outputs": [
    {
     "name": "stdout",
     "output_type": "stream",
     "text": [
      "\n",
      "Iteration 0:   log likelihood = -771.86609  \n",
      "Iteration 1:   log likelihood = -760.00982  \n",
      "Iteration 2:   log likelihood =  -759.9635  \n",
      "Iteration 3:   log likelihood =  -759.9635  \n",
      "\n",
      "Logistic regression                             Number of obs     =      1,200\n",
      "                                                LR chi2(3)        =      23.81\n",
      "                                                Prob > chi2       =     0.0000\n",
      "Log likelihood =  -759.9635                     Pseudo R2         =     0.0154\n",
      "\n",
      "-----------------------------------------------------------------------------------\n",
      "        inherited |      Coef.   Std. Err.      z    P>|z|     [95% Conf. Interval]\n",
      "------------------+----------------------------------------------------------------\n",
      "collegeschooltype |  -.1267348    .058549    -2.16   0.030    -.2414888   -.0119808\n",
      "boardtop30private |  -.2951328   .1987168    -1.49   0.137    -.6846105    .0943449\n",
      "          pehedge |   .8712339   .1956234     4.45   0.000      .487819    1.254649\n",
      "            _cons |  -.5148307   .1053237    -4.89   0.000    -.7212614      -.3084\n",
      "-----------------------------------------------------------------------------------\n",
      "(est10 stored)\n"
     ]
    }
   ],
   "source": [
    "eststo: logit inherited collegeschooltype boardtop30private pehedge"
   ]
  },
  {
   "cell_type": "markdown",
   "metadata": {},
   "source": [
    "    \n",
    "    D. Use esttab to output the coefficients for your OLS and MLE logistic models with html formatting within your Jupyter Notebook."
   ]
  },
  {
   "cell_type": "code",
   "execution_count": 48,
   "metadata": {},
   "outputs": [
    {
     "data": {
      "text/html": [
       "\n",
       "<table border=\"0\" width=\"*\">\n",
       "<caption>unexpontiated coefficients</caption>\n",
       "<tr><td colspan=21><hr></td></tr>\n",
       "<tr><td>            </td><td>         (1)</td><td>   </td><td>         (2)</td><td>   </td><td>         (3)</td><td>   </td><td>         (4)</td><td>   </td><td>         (5)</td><td>   </td><td>         (6)</td><td>   </td><td>         (7)</td><td>   </td><td>         (8)</td><td>   </td><td>         (9)</td><td>   </td><td>        (10)</td><td>   </td></tr>\n",
       "<tr><td>            </td><td>         OLS</td><td>   </td><td>MLE / logistic</td><td>   </td><td>        est3</td><td>   </td><td>        est4</td><td>   </td><td>        est5</td><td>   </td><td>        est6</td><td>   </td><td>        est7</td><td>   </td><td>        est8</td><td>   </td><td>        est9</td><td>   </td><td>       est10</td><td>   </td></tr>\n",
       "<tr><td colspan=21><hr></td></tr>\n",
       "<tr><td>main        </td><td>            </td><td>   </td><td>            </td><td>   </td><td>            </td><td>   </td><td>            </td><td>   </td><td>            </td><td>   </td><td>            </td><td>   </td><td>            </td><td>   </td><td>            </td><td>   </td><td>            </td><td>   </td><td>            </td><td>   </td></tr>\n",
       "<tr><td>collegeschooltype</td><td>       -0.08</td><td>   </td><td>       -0.08</td><td>   </td><td>            </td><td>   </td><td>       -0.08</td><td>   </td><td>       -0.02</td><td>   </td><td>       -0.02</td><td>   </td><td>       -0.02</td><td>   </td><td>       -0.08</td><td>   </td><td>       -0.03</td><td>*  </td><td>       -0.13</td><td>*  </td></tr>\n",
       "<tr><td>            </td><td>      (0.06)</td><td>   </td><td>      (0.06)</td><td>   </td><td>            </td><td>   </td><td>      (0.06)</td><td>   </td><td>      (0.01)</td><td>   </td><td>      (0.01)</td><td>   </td><td>      (0.01)</td><td>   </td><td>      (0.06)</td><td>   </td><td>      (0.01)</td><td>   </td><td>      (0.06)</td><td>   </td></tr>\n",
       "<tr><td>boardtop30private</td><td>       -0.20</td><td>   </td><td>       -0.20</td><td>   </td><td>        0.81</td><td>***</td><td>       -0.20</td><td>   </td><td>       -0.04</td><td>   </td><td>       -0.04</td><td>   </td><td>       -0.04</td><td>   </td><td>       -0.20</td><td>   </td><td>       -0.06</td><td>   </td><td>       -0.30</td><td>   </td></tr>\n",
       "<tr><td>            </td><td>      (0.19)</td><td>   </td><td>      (0.19)</td><td>   </td><td>      (0.11)</td><td>   </td><td>      (0.18)</td><td>   </td><td>      (0.04)</td><td>   </td><td>      (0.04)</td><td>   </td><td>      (0.04)</td><td>   </td><td>      (0.19)</td><td>   </td><td>      (0.04)</td><td>   </td><td>      (0.20)</td><td>   </td></tr>\n",
       "<tr><td>pehedge     </td><td>            </td><td>   </td><td>            </td><td>   </td><td>            </td><td>   </td><td>            </td><td>   </td><td>            </td><td>   </td><td>            </td><td>   </td><td>            </td><td>   </td><td>            </td><td>   </td><td>        0.20</td><td>***</td><td>        0.87</td><td>***</td></tr>\n",
       "<tr><td>            </td><td>            </td><td>   </td><td>            </td><td>   </td><td>            </td><td>   </td><td>            </td><td>   </td><td>            </td><td>   </td><td>            </td><td>   </td><td>            </td><td>   </td><td>            </td><td>   </td><td>      (0.05)</td><td>   </td><td>      (0.20)</td><td>   </td></tr>\n",
       "<tr><td colspan=21><hr></td></tr>\n",
       "<tr><td><i>N</i>    </td><td>        1200</td><td>   </td><td>        1200</td><td>   </td><td>        1200</td><td>   </td><td>        1200</td><td>   </td><td>        1200</td><td>   </td><td>        1200</td><td>   </td><td>        1200</td><td>   </td><td>        1200</td><td>   </td><td>        1200</td><td>   </td><td>        1200</td><td>   </td></tr>\n",
       "<tr><td colspan=21><hr></td></tr>\n",
       "<tr><td colspan=21>\n",
       "^ p<.1, * p<.05, ** p<.01, *** p<.001\n",
       "</td></tr>\n",
       "</table>\n",
       "\n"
      ],
      "text/plain": [
       "This front-end or document format cannot display HTML"
      ]
     },
     "metadata": {},
     "output_type": "display_data"
    }
   ],
   "source": [
    "%html\n",
    "\n",
    "esttab ///\n",
    ", cells(b(star fmt(2)) se(fmt(2) par)) stardetach  ///\n",
    "\tlegend starlevels(^ .1 * .05 ** .01 *** .001) html ///\n",
    "mlabels(\"OLS\" \"MLE / logistic\") title(\"unexpontiated coefficients\") ///\n",
    "collabels(none) keep(collegeschooltype boardtop30private pehedge)"
   ]
  },
  {
   "cell_type": "markdown",
   "metadata": {},
   "source": [
    "    \n",
    "    E. Use esttab to reoutput your coefficients as odd ratios."
   ]
  },
  {
   "cell_type": "code",
   "execution_count": 49,
   "metadata": {},
   "outputs": [
    {
     "data": {
      "text/html": [
       "\n",
       "<table border=\"0\" width=\"*\">\n",
       "<caption>Odds Ratios</caption>\n",
       "<tr><td colspan=21><hr></td></tr>\n",
       "<tr><td>            </td><td>         (1)</td><td>   </td><td>         (2)</td><td>   </td><td>         (3)</td><td>   </td><td>         (4)</td><td>   </td><td>         (5)</td><td>   </td><td>         (6)</td><td>   </td><td>         (7)</td><td>   </td><td>         (8)</td><td>   </td><td>         (9)</td><td>   </td><td>        (10)</td><td>   </td></tr>\n",
       "<tr><td>            </td><td>         OLS</td><td>   </td><td>MLE / logistic</td><td>   </td><td>        est3</td><td>   </td><td>        est4</td><td>   </td><td>        est5</td><td>   </td><td>        est6</td><td>   </td><td>        est7</td><td>   </td><td>        est8</td><td>   </td><td>        est9</td><td>   </td><td>       est10</td><td>   </td></tr>\n",
       "<tr><td colspan=21><hr></td></tr>\n",
       "<tr><td>main        </td><td>            </td><td>   </td><td>            </td><td>   </td><td>            </td><td>   </td><td>            </td><td>   </td><td>            </td><td>   </td><td>            </td><td>   </td><td>            </td><td>   </td><td>            </td><td>   </td><td>            </td><td>   </td><td>            </td><td>   </td></tr>\n",
       "<tr><td>collegeschooltype</td><td>        0.92</td><td>   </td><td>        0.92</td><td>   </td><td>            </td><td>   </td><td>        0.92</td><td>   </td><td>        0.98</td><td>   </td><td>        0.98</td><td>   </td><td>        0.98</td><td>   </td><td>        0.92</td><td>   </td><td>        0.97</td><td>*  </td><td>        0.88</td><td>*  </td></tr>\n",
       "<tr><td>            </td><td>      (0.05)</td><td>   </td><td>      (0.05)</td><td>   </td><td>            </td><td>   </td><td>      (0.05)</td><td>   </td><td>      (0.01)</td><td>   </td><td>      (0.01)</td><td>   </td><td>      (0.01)</td><td>   </td><td>      (0.05)</td><td>   </td><td>      (0.01)</td><td>   </td><td>      (0.05)</td><td>   </td></tr>\n",
       "<tr><td>boardtop30private</td><td>        0.82</td><td>   </td><td>        0.82</td><td>   </td><td>        2.25</td><td>***</td><td>        0.82</td><td>   </td><td>        0.96</td><td>   </td><td>        0.96</td><td>   </td><td>        0.96</td><td>   </td><td>        0.82</td><td>   </td><td>        0.94</td><td>   </td><td>        0.74</td><td>   </td></tr>\n",
       "<tr><td>            </td><td>      (0.16)</td><td>   </td><td>      (0.16)</td><td>   </td><td>      (0.26)</td><td>   </td><td>      (0.15)</td><td>   </td><td>      (0.04)</td><td>   </td><td>      (0.04)</td><td>   </td><td>      (0.04)</td><td>   </td><td>      (0.16)</td><td>   </td><td>      (0.04)</td><td>   </td><td>      (0.15)</td><td>   </td></tr>\n",
       "<tr><td>pehedge     </td><td>            </td><td>   </td><td>            </td><td>   </td><td>            </td><td>   </td><td>            </td><td>   </td><td>            </td><td>   </td><td>            </td><td>   </td><td>            </td><td>   </td><td>            </td><td>   </td><td>        1.23</td><td>***</td><td>        2.39</td><td>***</td></tr>\n",
       "<tr><td>            </td><td>            </td><td>   </td><td>            </td><td>   </td><td>            </td><td>   </td><td>            </td><td>   </td><td>            </td><td>   </td><td>            </td><td>   </td><td>            </td><td>   </td><td>            </td><td>   </td><td>      (0.06)</td><td>   </td><td>      (0.47)</td><td>   </td></tr>\n",
       "<tr><td colspan=21><hr></td></tr>\n",
       "<tr><td><i>N</i>    </td><td>        1200</td><td>   </td><td>        1200</td><td>   </td><td>        1200</td><td>   </td><td>        1200</td><td>   </td><td>        1200</td><td>   </td><td>        1200</td><td>   </td><td>        1200</td><td>   </td><td>        1200</td><td>   </td><td>        1200</td><td>   </td><td>        1200</td><td>   </td></tr>\n",
       "<tr><td colspan=21><hr></td></tr>\n",
       "<tr><td colspan=21>\n",
       "Exponentiated coefficients\n",
       "<br />^ p<.1, * p<.05, ** p<.01, *** p<.001\n",
       "</td></tr>\n",
       "</table>\n",
       "\n"
      ],
      "text/plain": [
       "This front-end or document format cannot display HTML"
      ]
     },
     "metadata": {},
     "output_type": "display_data"
    }
   ],
   "source": [
    "%html\n",
    "\n",
    "esttab ///\n",
    ", cells(b(star fmt(2)) se(fmt(2) par)) stardetach  ///\n",
    "\tlegend starlevels(^ .1 * .05 ** .01 *** .001) html ///\n",
    "mlabels(\"OLS\" \"MLE / logistic\") title(\"Odds Ratios\") ///\n",
    "collabels(none) keep(collegeschooltype boardtop30private pehedge) eform"
   ]
  },
  {
   "cell_type": "markdown",
   "metadata": {},
   "source": [
    "### 3. Interpret your results [1 pt]\n",
    "\n",
    "Write a couple sentences answering each of the following questions:\n",
    "\n",
    "    A. How would you interpret the relationship between your dependent variable(s) (DVs) and independent variables (IVs) based on the odds ratios for you MLE logistic model?\n",
    "According to the MLE Logistic model those who inherit wealth are more likely to attend elite schools and have a higher possibility to be in the top 30 board of wealthiest.   \n",
    "\n",
    "    B. Do the overall estimates support or contradict your hypotheses? Why?\n",
    "The MLE Logistic model supports my hypothesis while the OSL does not look like it supports the hypothesis. The MLE Logistic Model shows a 92 while the OSL Models shows a -0.08.\n",
    "    \n",
    "    C. Is there anything suprising in your model estimates? Why?\n",
    "It was supporting that when I ran the OSL model the output is negative, while the output for the MLE logistic model was a high positive number. \n",
    "    \n",
    "    D. How do the OLS coefficients and their standard errors compare to the MLE estimates? Are the coefficients and standard errors larger or smaller?\n",
    "The OLS coefficients is lower compare to the MLE estimates, but the OLS standard error is higher compared to the MLE standard errors."
   ]
  },
  {
   "cell_type": "code",
   "execution_count": null,
   "metadata": {},
   "outputs": [],
   "source": []
  }
 ],
 "metadata": {
  "kernelspec": {
   "display_name": "Stata",
   "language": "stata",
   "name": "stata"
  },
  "language_info": {
   "codemirror_mode": "stata",
   "file_extension": ".do",
   "mimetype": "text/x-stata",
   "name": "stata",
   "version": "15.1"
  }
 },
 "nbformat": 4,
 "nbformat_minor": 4
}
